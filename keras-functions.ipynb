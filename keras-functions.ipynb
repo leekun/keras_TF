{
 "cells": [
  {
   "cell_type": "code",
   "execution_count": 2,
   "metadata": {
    "ExecuteTime": {
     "end_time": "2018-06-04T08:16:00.628521Z",
     "start_time": "2018-06-04T08:15:56.330911Z"
    }
   },
   "outputs": [
    {
     "name": "stderr",
     "output_type": "stream",
     "text": [
      "/usr/local/lib/python3.6/site-packages/h5py/__init__.py:36: FutureWarning: Conversion of the second argument of issubdtype from `float` to `np.floating` is deprecated. In future, it will be treated as `np.float64 == np.dtype(float).type`.\n",
      "  from ._conv import register_converters as _register_converters\n",
      "Using TensorFlow backend.\n"
     ]
    }
   ],
   "source": [
    "from __future__ import print_function\n",
    "import keras\n",
    "from keras.models import Sequential\n",
    "from keras.models import Model\n",
    "from keras.layers import Dense, Dropout,  Flatten\n",
    "from keras.layers import Reshape\n",
    "from keras.layers.core import Activation\n",
    "from keras.layers.normalization import BatchNormalization\n",
    "from keras.layers.convolutional import UpSampling2D\n",
    "from keras.layers.convolutional import Conv2D, MaxPooling2D\n",
    "from keras.layers.core import Flatten\n",
    "from keras.optimizers import SGD\n",
    "from keras.datasets import mnist\n",
    "from keras.layers import Input \n",
    "from keras import backend as K\n",
    "import  matplotlib.pyplot as plt\n",
    "from keras.models import load_model\n",
    "from keras.preprocessing import image as kimage\n",
    "\n",
    "from keras.applications.vgg19 import VGG19\n",
    "from keras.applications.mobilenet import MobileNet\n",
    "from keras.applications.vgg19 import preprocess_input\n",
    "import numpy as np\n",
    "import tensorflow as tf\n",
    "from scipy import optimize\n",
    "\n",
    "#from keras.preprocessing.image import img_to_array\n",
    "from scipy.optimize import fmin_l_bfgs_b\n",
    "import time"
   ]
  },
  {
   "cell_type": "markdown",
   "metadata": {},
   "source": [
    "# functions + gradient"
   ]
  },
  {
   "cell_type": "markdown",
   "metadata": {
    "ExecuteTime": {
     "end_time": "2018-06-04T08:30:15.097856Z",
     "start_time": "2018-06-04T08:30:15.094176Z"
    }
   },
   "source": [
    "## 标准用法: 以占位符实例化"
   ]
  },
  {
   "cell_type": "code",
   "execution_count": 61,
   "metadata": {
    "ExecuteTime": {
     "end_time": "2018-06-04T08:39:21.688307Z",
     "start_time": "2018-06-04T08:39:21.667306Z"
    }
   },
   "outputs": [
    {
     "data": {
      "text/plain": [
       "[array([[0.17359288, 0.28688848],\n",
       "        [0.26178834, 0.44428176]], dtype=float32)]"
      ]
     },
     "execution_count": 61,
     "metadata": {},
     "output_type": "execute_result"
    }
   ],
   "source": [
    "inputs = K.placeholder(shape=(2, 2))\n",
    "outputs = K.dot(inputs, inputs) \n",
    "\n",
    "func = K.function([inputs],[outputs]) # 实例化一个张量函数\n",
    "\n",
    "val = np.random.random((2, 2))\n",
    "func([val]) # 输入为numpy, 输出为numpy"
   ]
  },
  {
   "cell_type": "code",
   "execution_count": 52,
   "metadata": {
    "ExecuteTime": {
     "end_time": "2018-06-04T08:34:24.413376Z",
     "start_time": "2018-06-04T08:34:24.405033Z"
    }
   },
   "outputs": [
    {
     "data": {
      "text/plain": [
       "[array([[0.36415818, 0.5888605 ],\n",
       "        [0.15553114, 0.5672088 ]], dtype=float32)]"
      ]
     },
     "execution_count": 52,
     "metadata": {},
     "output_type": "execute_result"
    }
   ],
   "source": [
    "val = np.random.random((2, 2))\n",
    "func([val]) # 结果是不一样的。"
   ]
  },
  {
   "cell_type": "markdown",
   "metadata": {},
   "source": [
    "## 以variable 实例化输入function\n",
    "\n",
    " 这个也可以？ 比较怪"
   ]
  },
  {
   "cell_type": "code",
   "execution_count": 49,
   "metadata": {
    "ExecuteTime": {
     "end_time": "2018-06-04T08:32:32.812919Z",
     "start_time": "2018-06-04T08:32:32.769035Z"
    }
   },
   "outputs": [
    {
     "data": {
      "text/plain": [
       "[array([[0.44650674, 0.15564309],\n",
       "        [0.9874884 , 0.93421614]], dtype=float32)]"
      ]
     },
     "execution_count": 49,
     "metadata": {},
     "output_type": "execute_result"
    }
   ],
   "source": [
    "val2 = np.random.random((2, 2))\n",
    "a = K.variable(value=val)\n",
    "b = K.variable(value=val)\n",
    "c = K.dot(a,b)\n",
    "\n",
    "func = K.function([a,b],[c])  # 竟然可以用variable来示例化一个function\n",
    "func([val2,val2])"
   ]
  },
  {
   "cell_type": "code",
   "execution_count": 50,
   "metadata": {
    "ExecuteTime": {
     "end_time": "2018-06-04T08:32:36.092541Z",
     "start_time": "2018-06-04T08:32:36.083594Z"
    }
   },
   "outputs": [
    {
     "data": {
      "text/plain": [
       "[array([[0.7739289 , 0.40827876],\n",
       "        [0.41796717, 0.76521915]], dtype=float32)]"
      ]
     },
     "execution_count": 50,
     "metadata": {},
     "output_type": "execute_result"
    }
   ],
   "source": [
    "val2 = np.random.random((2, 2))\n",
    "func([val2,val2])  "
   ]
  },
  {
   "cell_type": "markdown",
   "metadata": {},
   "source": [
    "## 计算梯度"
   ]
  },
  {
   "cell_type": "code",
   "execution_count": 79,
   "metadata": {
    "ExecuteTime": {
     "end_time": "2018-06-04T10:35:23.198423Z",
     "start_time": "2018-06-04T10:35:23.134391Z"
    }
   },
   "outputs": [
    {
     "name": "stdout",
     "output_type": "stream",
     "text": [
      "<class 'list'>\n",
      "[[0.04770285 0.67023043]\n",
      " [0.75408434 0.92022279]]\n",
      "[array([[1.5197206, 2.4760942],\n",
      "       [2.3083863, 3.2647603]], dtype=float32)]\n",
      "[array([[0.5076859, 0.6487332],\n",
      "       [0.7298975, 1.3522203]], dtype=float32)]\n"
     ]
    }
   ],
   "source": [
    "inputs = K.placeholder(shape=(2, 2))\n",
    "outputs = K.dot(inputs, inputs) \n",
    "\n",
    "grad = K.gradients(outputs, inputs) \n",
    "print(type(grad))\n",
    "\n",
    "val = np.random.random((2, 2))\n",
    "\n",
    "# 注：计算梯度出的梯度grad，但是不能单独调用 grad([x]),将会有问题，因为grad是个张量。 \n",
    "# 将输入和输出的映射，定义为一个函数。然后输入才可以。\n",
    "g_func = K.function([inputs],grad)\n",
    "print(val)\n",
    "print(g_func([val]))\n",
    "print(K.function([inputs],[K.dot(inputs,inputs)])([val]))"
   ]
  },
  {
   "cell_type": "code",
   "execution_count": 80,
   "metadata": {
    "ExecuteTime": {
     "end_time": "2018-06-04T10:36:23.096336Z",
     "start_time": "2018-06-04T10:36:23.090162Z"
    }
   },
   "outputs": [
    {
     "data": {
      "text/plain": [
       "1.5197204700000002"
      ]
     },
     "execution_count": 80,
     "metadata": {},
     "output_type": "execute_result"
    }
   ],
   "source": [
    "# 其中：推导x11的导数为：2*x11 + x21+ x12\n",
    "0.04770285 * 2 + 0.67023043 + 0.75408434"
   ]
  },
  {
   "cell_type": "code",
   "execution_count": null,
   "metadata": {
    "collapsed": true
   },
   "outputs": [],
   "source": []
  }
 ],
 "metadata": {
  "kernelspec": {
   "display_name": "Python 3",
   "language": "python",
   "name": "python3"
  },
  "language_info": {
   "codemirror_mode": {
    "name": "ipython",
    "version": 3
   },
   "file_extension": ".py",
   "mimetype": "text/x-python",
   "name": "python",
   "nbconvert_exporter": "python",
   "pygments_lexer": "ipython3",
   "version": "3.6.3"
  },
  "toc": {
   "nav_menu": {},
   "number_sections": true,
   "sideBar": true,
   "skip_h1_title": false,
   "toc_cell": false,
   "toc_position": {},
   "toc_section_display": "block",
   "toc_window_display": false
  }
 },
 "nbformat": 4,
 "nbformat_minor": 2
}
